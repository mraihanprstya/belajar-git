{
  "nbformat": 4,
  "nbformat_minor": 0,
  "metadata": {
    "colab": {
      "name": "BPSKGit.ipynb",
      "provenance": [],
      "authorship_tag": "ABX9TyPdmEjXRDozzl6tLd+Ozy3G",
      "include_colab_link": true
    },
    "kernelspec": {
      "name": "python3",
      "display_name": "Python 3"
    },
    "language_info": {
      "name": "python"
    }
  },
  "cells": [
    {
      "cell_type": "markdown",
      "metadata": {
        "id": "view-in-github",
        "colab_type": "text"
      },
      "source": [
        "<a href=\"https://colab.research.google.com/github/mraihanprstya/belajar-git/blob/master/BPSKGit.ipynb\" target=\"_parent\"><img src=\"https://colab.research.google.com/assets/colab-badge.svg\" alt=\"Open In Colab\"/></a>"
      ]
    },
    {
      "cell_type": "code",
      "metadata": {
        "colab": {
          "base_uri": "https://localhost:8080/"
        },
        "id": "gHQvuIl1s2xv",
        "cellView": "form",
        "outputId": "88b1a023-5fc8-4efd-8570-5a142231d6b3"
      },
      "source": [
        "#@title Default title text\n",
        "import numpy as np\n",
        "\n",
        "test = np.arange(0,100,20)\n",
        "test"
      ],
      "execution_count": null,
      "outputs": [
        {
          "output_type": "execute_result",
          "data": {
            "text/plain": [
              "array([ 0, 20, 40, 60, 80])"
            ]
          },
          "metadata": {
            "tags": []
          },
          "execution_count": 1
        }
      ]
    },
    {
      "cell_type": "markdown",
      "metadata": {
        "id": "NRXdWfD6s-Zz"
      },
      "source": [
        "nahhh coba dah tuh"
      ]
    },
    {
      "cell_type": "code",
      "metadata": {
        "colab": {
          "base_uri": "https://localhost:8080/"
        },
        "id": "5oLbEiBctAmR",
        "outputId": "0b77c93a-e9ab-4ff4-b492-4d43f2d57222"
      },
      "source": [
        "test/4"
      ],
      "execution_count": null,
      "outputs": [
        {
          "output_type": "execute_result",
          "data": {
            "text/plain": [
              "array([ 0.,  5., 10., 15., 20.])"
            ]
          },
          "metadata": {
            "tags": []
          },
          "execution_count": 2
        }
      ]
    }
  ]
}